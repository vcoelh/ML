{
  "nbformat": 4,
  "nbformat_minor": 0,
  "metadata": {
    "colab": {
      "provenance": [],
      "authorship_tag": "ABX9TyNT10qAcbQnUopFrZDYAHPy",
      "include_colab_link": true
    },
    "kernelspec": {
      "name": "python3",
      "display_name": "Python 3"
    },
    "language_info": {
      "name": "python"
    }
  },
  "cells": [
    {
      "cell_type": "markdown",
      "metadata": {
        "id": "view-in-github",
        "colab_type": "text"
      },
      "source": [
        "<a href=\"https://colab.research.google.com/github/vcoelh/ML/blob/main/Softmax_function.ipynb\" target=\"_parent\"><img src=\"https://colab.research.google.com/assets/colab-badge.svg\" alt=\"Open In Colab\"/></a>"
      ]
    },
    {
      "cell_type": "code",
      "execution_count": 5,
      "metadata": {
        "id": "vaZS62ENT3Fm"
      },
      "outputs": [],
      "source": [
        "import numpy as np\n",
        "import matplotlib.pyplot as plt\n",
        "plt.style.use('./deeplearning.mplstyle')\n",
        "import tensorflow as tf\n",
        "from tensorflow.keras.models import Sequential\n",
        "from tensorflow.keras.layers import Dense\n",
        "from IPython.display import display, Markdown, Latex\n",
        "from sklearn.datasets import make_blobs\n",
        "#%matplotlib widget\n",
        "from matplotlib.widgets import Slider\n",
        "from lab_utils_common import dlc\n",
        "from lab_utils_softmax import plt_softmax\n",
        "import logging\n",
        "logging.getLogger(\"tensorflow\").setLevel(logging.ERROR)\n",
        "tf.autograph.set_verbosity(0)"
      ]
    },
    {
      "cell_type": "code",
      "source": [
        "# centers = [[-5, 2], [-2, -2], [1, 2], [5, -2]]\n",
        "# X_train, y_train = make_blobs(n_samples=2000, centers= centers, cluster_std= 1.0, random_state = 30)\n",
        "\n",
        "# make  dataset for example\n",
        "centers = [[-5, 2], [-2, -2], [1, 2], [5, -2]]\n",
        "X_train, y_train = make_blobs(n_samples=2000, centers=centers, cluster_std=1.0,random_state=30)"
      ],
      "metadata": {
        "id": "18j-51VyVFUO"
      },
      "execution_count": 34,
      "outputs": []
    },
    {
      "cell_type": "code",
      "source": [
        "# from keras.utils.sidecar_evaluator import optimizer\n",
        "# , sparse_categorical_crossentropy\n",
        "# , sparse_categorical_crossentropy\n",
        "# from keras.backend import binary_crossentropy\n",
        "# model = Sequential(\n",
        "#     [\n",
        "#         tf.keras.layers.Dense(units = 25, activation = 'relu'),\n",
        "#         tf.keras.layers.Dense(units = 15, activation = 'relu'),\n",
        "#         tf.keras.layers.Dense(units = 10, activation = 'softmax')\n",
        "#     ]\n",
        "# )\n",
        "\n",
        "# model.compile(\n",
        "#     loss = tf.keras.losses.SparseCategoricalCrossentropy(),\n",
        "#     optimizer = tf.keras.optimizers.Adam(0.001)\n",
        "# )\n",
        "\n",
        "# model.fit(X_train, y_train, epochs= 10)\n",
        "\n",
        "model = Sequential(\n",
        "    [ \n",
        "        Dense(25, activation = 'relu'),\n",
        "        Dense(15, activation = 'relu'),\n",
        "        Dense(4, activation = 'softmax')    # < softmax activation here\n",
        "    ]\n",
        ")\n",
        "model.compile(\n",
        "    loss=tf.keras.losses.SparseCategoricalCrossentropy(),\n",
        "    optimizer=tf.keras.optimizers.Adam(0.001),\n",
        ")\n",
        "\n",
        "model.fit(\n",
        "    X_train,y_train,\n",
        "    epochs=10\n",
        ")"
      ],
      "metadata": {
        "colab": {
          "base_uri": "https://localhost:8080/"
        },
        "id": "KAb8V9UgVrne",
        "outputId": "2575f7ba-47e1-4efc-817c-ccfcee923030"
      },
      "execution_count": 45,
      "outputs": [
        {
          "output_type": "stream",
          "name": "stdout",
          "text": [
            "Epoch 1/10\n",
            "63/63 [==============================] - 1s 2ms/step - loss: 1.2463\n",
            "Epoch 2/10\n",
            "63/63 [==============================] - 0s 2ms/step - loss: 0.6238\n",
            "Epoch 3/10\n",
            "63/63 [==============================] - 0s 2ms/step - loss: 0.3291\n",
            "Epoch 4/10\n",
            "63/63 [==============================] - 0s 2ms/step - loss: 0.1642\n",
            "Epoch 5/10\n",
            "63/63 [==============================] - 0s 2ms/step - loss: 0.1016\n",
            "Epoch 6/10\n",
            "63/63 [==============================] - 0s 2ms/step - loss: 0.0774\n",
            "Epoch 7/10\n",
            "63/63 [==============================] - 0s 2ms/step - loss: 0.0643\n",
            "Epoch 8/10\n",
            "63/63 [==============================] - 0s 2ms/step - loss: 0.0566\n",
            "Epoch 9/10\n",
            "63/63 [==============================] - 0s 2ms/step - loss: 0.0508\n",
            "Epoch 10/10\n",
            "63/63 [==============================] - 0s 2ms/step - loss: 0.0470\n"
          ]
        },
        {
          "output_type": "execute_result",
          "data": {
            "text/plain": [
              "<keras.callbacks.History at 0x7f003c43c5e0>"
            ]
          },
          "metadata": {},
          "execution_count": 45
        }
      ]
    },
    {
      "cell_type": "code",
      "source": [
        "# p_nonpreferred = model.predict(X_train)\n",
        "# print(p_nonpreferred[:2])\n",
        "# print(f' the lowest: {np.min(p_nonpreferred)}, the biggest: {np.max(p_nonpreferred)}')\n",
        "\n",
        "p_nonpreferred = model.predict(X_train)\n",
        "print(p_nonpreferred [:2])\n",
        "print(\"largest value\", np.max(p_nonpreferred), \"smallest value\", np.min(p_nonpreferred))"
      ],
      "metadata": {
        "colab": {
          "base_uri": "https://localhost:8080/"
        },
        "id": "JEc_bAdxZR7g",
        "outputId": "d4a3c077-8653-49ec-a302-12617cdd41ba"
      },
      "execution_count": 46,
      "outputs": [
        {
          "output_type": "stream",
          "name": "stdout",
          "text": [
            "63/63 [==============================] - 0s 1ms/step\n",
            "[[2.60e-03 1.05e-02 9.49e-01 3.76e-02]\n",
            " [9.93e-01 6.92e-03 4.25e-05 6.07e-05]]\n",
            "largest value 0.9999973 smallest value 2.9770453e-09\n"
          ]
        }
      ]
    },
    {
      "cell_type": "code",
      "source": [
        "### preferred organization\n",
        "\n",
        "# preferred_model = Sequential(\n",
        "#     [\n",
        "#         tf.keras.layers.Dense(units = 25, activation = 'relu'),\n",
        "#         tf.keras.layers.Dense(units = 15, activation = 'relu'),\n",
        "#         tf.keras.layers.Dense(units = 4, activation = 'linear')\n",
        "#     ]\n",
        "# )\n",
        "\n",
        "# preferred_model.compile(\n",
        "#     loss = tf.keras.losses.SparseCategoricalCrossentropy(from_logits = True),\n",
        "#     optimizer = tf.keras.optimizers.Adam(0.001) \n",
        "# )\n",
        "\n",
        "# preferred_model.fit(X_train, y_train, epochs =10 )\n",
        "\n",
        "preferred_model = Sequential(\n",
        "    [ \n",
        "        Dense(25, activation = 'relu'),\n",
        "        Dense(15, activation = 'relu'),\n",
        "        Dense(4, activation = 'linear')   #<-- Note\n",
        "    ]\n",
        ")\n",
        "preferred_model.compile(\n",
        "    loss=tf.keras.losses.SparseCategoricalCrossentropy(from_logits=True),  #<-- Note\n",
        "    optimizer=tf.keras.optimizers.Adam(0.001),\n",
        ")\n",
        "\n",
        "preferred_model.fit(\n",
        "    X_train,y_train,\n",
        "    epochs=10\n",
        ")\n",
        "       "
      ],
      "metadata": {
        "colab": {
          "base_uri": "https://localhost:8080/"
        },
        "id": "IV7LL2fqaVXG",
        "outputId": "ef540613-3920-4f35-ce88-d0b6cf5c750d"
      },
      "execution_count": 47,
      "outputs": [
        {
          "output_type": "stream",
          "name": "stdout",
          "text": [
            "Epoch 1/10\n",
            "63/63 [==============================] - 1s 2ms/step - loss: 0.7373\n",
            "Epoch 2/10\n",
            "63/63 [==============================] - 0s 2ms/step - loss: 0.3128\n",
            "Epoch 3/10\n",
            "63/63 [==============================] - 0s 2ms/step - loss: 0.1336\n",
            "Epoch 4/10\n",
            "63/63 [==============================] - 0s 2ms/step - loss: 0.0826\n",
            "Epoch 5/10\n",
            "63/63 [==============================] - 0s 2ms/step - loss: 0.0631\n",
            "Epoch 6/10\n",
            "63/63 [==============================] - 0s 2ms/step - loss: 0.0531\n",
            "Epoch 7/10\n",
            "63/63 [==============================] - 0s 2ms/step - loss: 0.0463\n",
            "Epoch 8/10\n",
            "63/63 [==============================] - 0s 2ms/step - loss: 0.0417\n",
            "Epoch 9/10\n",
            "63/63 [==============================] - 0s 2ms/step - loss: 0.0382\n",
            "Epoch 10/10\n",
            "63/63 [==============================] - 0s 2ms/step - loss: 0.0352\n"
          ]
        },
        {
          "output_type": "execute_result",
          "data": {
            "text/plain": [
              "<keras.callbacks.History at 0x7f003c32efa0>"
            ]
          },
          "metadata": {},
          "execution_count": 47
        }
      ]
    },
    {
      "cell_type": "code",
      "source": [
        "preferred_predict = preferred_model.predict(X_train)\n",
        "print(preferred_predict[:2])\n",
        "print(f'max : {np.max(preferred_predict)}, min: {np.min(preferred_predict)}')\n"
      ],
      "metadata": {
        "colab": {
          "base_uri": "https://localhost:8080/"
        },
        "id": "XCXGybqqc07m",
        "outputId": "0bf36432-3a74-4ee2-d12b-4bbc9f80117b"
      },
      "execution_count": 50,
      "outputs": [
        {
          "output_type": "stream",
          "name": "stdout",
          "text": [
            "63/63 [==============================] - 0s 2ms/step\n",
            "[[-2.89 -2.18  3.5  -1.62]\n",
            " [ 4.23 -1.37 -5.55 -6.12]]\n",
            "max : 11.389432907104492, min: -10.502457618713379\n"
          ]
        }
      ]
    },
    {
      "cell_type": "code",
      "source": [
        "sm_preferred = tf.nn.softmax(preferred_predict).numpy()\n",
        "print(f\"two example output vectors:\\n {sm_preferred[:2]}\")\n",
        "print(\"largest value\", np.max(sm_preferred), \"smallest value\", np.min(sm_preferred))"
      ],
      "metadata": {
        "colab": {
          "base_uri": "https://localhost:8080/"
        },
        "id": "z3Ze2n5eeChH",
        "outputId": "0928fa6a-5ebe-4989-831a-672a33b54623"
      },
      "execution_count": 51,
      "outputs": [
        {
          "output_type": "stream",
          "name": "stdout",
          "text": [
            "two example output vectors:\n",
            " [[1.67e-03 3.39e-03 9.89e-01 5.90e-03]\n",
            " [9.96e-01 3.68e-03 5.66e-05 3.19e-05]]\n",
            "largest value 0.99999994 smallest value 1.9255701e-09\n"
          ]
        }
      ]
    },
    {
      "cell_type": "code",
      "source": [
        "for i in range(5):\n",
        "  print(f'{preferred_predict[i]}, category: {np.argmax(p_preferred[i])}')"
      ],
      "metadata": {
        "colab": {
          "base_uri": "https://localhost:8080/"
        },
        "id": "Qj-BmkexgFWK",
        "outputId": "6e6b6776-8ca6-406e-b659-12838c56877b"
      },
      "execution_count": 52,
      "outputs": [
        {
          "output_type": "stream",
          "name": "stdout",
          "text": [
            "[-2.89 -2.18  3.5  -1.62], category: 2\n",
            "[ 4.23 -1.37 -5.55 -6.12], category: 0\n",
            "[ 2.82 -0.53 -4.2  -4.95], category: 0\n",
            "[-2.05  3.53 -1.51 -2.67], category: 1\n",
            "[-0.38 -4.49  4.68 -4.58], category: 2\n"
          ]
        }
      ]
    }
  ]
}